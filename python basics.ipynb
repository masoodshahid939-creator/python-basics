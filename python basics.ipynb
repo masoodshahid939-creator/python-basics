{
 "cells": [
  {
   "cell_type": "markdown",
   "id": "0173d863-7c14-4157-803a-6b03101b5255",
   "metadata": {},
   "source": [
    "QUESTION 1\n",
    "Q- What is Python, and why is it popular?\n",
    "A- Python is a simple programming language used for making apps, websites, and automating tasks.It is popular because it's easy to read and learn.\n",
    "\n",
    "QUESTION 2\n",
    "Q- What is an interpreter in Python?\n",
    "A- An interpreter runs Python code line by line so you can see results right away.\n",
    "\n",
    "QUESTION 3\n",
    "Q- What are pre-defined keywords in Python?\n",
    "A- Keywords are words like if,else,for,and while that are part of Python and have special meanings.\n",
    "\n",
    "QUESTION 4\n",
    "Q- Can keywords be used as variable names?\n",
    "A- No,keywords cannot be used as variable names because they already have a special purpose.\n",
    "\n",
    "QUESTION 5\n",
    "Q- What is mutability in Python?\n",
    "A- Mutability means if you can change something after it is created.For example,lists are mutable because you can change their values.\n",
    "\n",
    "QUESTION 6\n",
    "Q- Why are lists mutable,but tuples are immutable?\n",
    "A- Lists can be changed (like adding/removing items),but tuples cannot be changed after they are created.\n",
    "\n",
    "QUESTION 7\n",
    "Q- What is the difference between \"==\" and \"is\" operators in Python?\n",
    "A- == checks if two values are the same, but \"is\" checks if both variables point to the same object in memory.\n",
    "\n",
    "QUESTION 8\n",
    "Q- What are logical operators in Python?\n",
    "A- Logical operators are and,or,and not.They help you combine conditions.\n",
    "\n",
    "QUESTION 9\n",
    "Q- What is type casting in Python?\n",
    "A- Type casting means changing data from one type to another, like changing a string \"5\" to an integer 5.\n",
    "\n",
    "QUESTION 10\n",
    "Q- What is the difference between implicit and explicit type casting?\n",
    "A- Implicit: Python changes types automatically.\n",
    "    Explicit: You tell Python to change types using int(), str(), etc.\n",
    "\n",
    "QUESTION 11\n",
    "Q- What is the purpose of conditional statements in Python?*\n",
    "A- To make decisions in code. Example:\n",
    "    if age > 18:\n",
    "        print(\"Adult\")\n",
    "\n",
    "QUESTION 12\n",
    "Q- How does the elif statement work?*\n",
    "A- It checks another condition if the previous if was false.\n",
    "    if x > 10:\n",
    "        print(\"Big\")\n",
    "    elif x > 5:\n",
    "        print(\"Medium\")\n",
    "    else:\n",
    "        print(\"Small\")\n",
    "\n",
    "QUESTION 13\n",
    "Q- What is the difference between for and while loops?*\n",
    "\n",
    "A- For: Used when the number of repetitions is known.\n",
    "   While:Runs until a condition becomes false.\n",
    "\n",
    "QUESTION 14\n",
    "Q- Describe a scenario where a while loop is more suitable than a for loop.\n",
    "A- When you don’t know how many times you need to repeat,like reading user input until they type \"exit\".\n",
    "\n",
    "\n",
    "\n",
    "\n",
    " \n",
    "\n",
    "\n",
    "\n",
    "\n",
    "\n"
   ]
  },
  {
   "cell_type": "code",
   "execution_count": 4,
   "id": "e00c6f91-e32f-4ae7-996d-4958ff413b02",
   "metadata": {},
   "outputs": [
    {
     "name": "stdout",
     "output_type": "stream",
     "text": [
      "hello world\n"
     ]
    }
   ],
   "source": [
    "#QUESTION 1\n",
    "#Print \"Hello, World!\n",
    "x=(\"hello world\")\n",
    "print(x)"
   ]
  },
  {
   "cell_type": "code",
   "execution_count": 14,
   "id": "1014606e-7339-43f0-bc95-5d014f63cb0e",
   "metadata": {},
   "outputs": [
    {
     "name": "stdout",
     "output_type": "stream",
     "text": [
      "my name is masood khan and i am  25 years old\n"
     ]
    }
   ],
   "source": [
    "#QUESTION 2\n",
    "#DISPLAY YOUR NAME AND AGE\n",
    "name = (\"masood khan\")\n",
    "age = 25\n",
    "print (\"my name is\", name , \"and i am \" , age  \"years old\")"
   ]
  },
  {
   "cell_type": "code",
   "execution_count": 17,
   "id": "1ddb4731-1ad6-4da5-a494-89693ba3f995",
   "metadata": {},
   "outputs": [
    {
     "name": "stdout",
     "output_type": "stream",
     "text": [
      "['False', 'None', 'True', 'and', 'as', 'assert', 'async', 'await', 'break', 'class', 'continue', 'def', 'del', 'elif', 'else', 'except', 'finally', 'for', 'from', 'global', 'if', 'import', 'in', 'is', 'lambda', 'nonlocal', 'not', 'or', 'pass', 'raise', 'return', 'try', 'while', 'with', 'yield']\n"
     ]
    }
   ],
   "source": [
    "#QUESTION 3\n",
    "#PRINT ALL PRE DEFINED KEY WORD\n",
    "import keyword\n",
    "print(keyword.kwlist)"
   ]
  },
  {
   "cell_type": "code",
   "execution_count": 53,
   "id": "3499f0f2-adda-477c-9be7-d0154fa47936",
   "metadata": {},
   "outputs": [
    {
     "name": "stdin",
     "output_type": "stream",
     "text": [
      "Enter a word: print\n"
     ]
    },
    {
     "name": "stdout",
     "output_type": "stream",
     "text": [
      "it is not a key word\n"
     ]
    }
   ],
   "source": [
    "#QUESTION 4\n",
    "#CHECK IF A WORD IS PYTHON KEY WORD\n",
    "import keyword\n",
    "word=input(\"Enter a word:\")\n",
    "if keyword.iskeyword(word):\n",
    "    print(\"it is a key word.\")\n",
    "else:\n",
    "    print(\"it is not a key word\")\n"
   ]
  },
  {
   "cell_type": "code",
   "execution_count": 26,
   "id": "e731265b-c36d-45bc-92dc-f609bd2ba919",
   "metadata": {},
   "outputs": [
    {
     "name": "stdout",
     "output_type": "stream",
     "text": [
      "[100, 2, 3]\n",
      "(1, 2, 3)\n"
     ]
    }
   ],
   "source": [
    "#QUESTION 5\n",
    "#CREATE A LIST AND TUPLE SHOW DIFFERENCE\n",
    "my_list = [1,2,3]\n",
    "my_tuple =(1,2,3)\n",
    "my_list[0] = 100 #U CAN ADD A NUMBER TO YOUR DESIRED LOCATION IN LISTS \n",
    "my_tuple(0) =6 #THIS WILL GIVE YOU AN ERROR\n",
    "print(my_list)\n",
    "print(my_tuple)"
   ]
  },
  {
   "cell_type": "code",
   "execution_count": null,
   "id": "2f19cf6f-9e9b-41e8-b674-8756b62e5fcc",
   "metadata": {},
   "outputs": [],
   "source": [
    "#QUESTION 6\n",
    "#FUNCTIONS TO SHOW MUTABLE AND IMMUTABLE BEHAVIOUR\n"
   ]
  },
  {
   "cell_type": "code",
   "execution_count": 33,
   "id": "efb09abc-4e4b-40ec-82d1-5ce000e89167",
   "metadata": {},
   "outputs": [
    {
     "name": "stdin",
     "output_type": "stream",
     "text": [
      "Enter first number 20\n",
      "enter second number 4\n"
     ]
    },
    {
     "name": "stdout",
     "output_type": "stream",
     "text": [
      "sum: 24\n",
      "difference: 16\n",
      "multiplication: 80\n",
      "division: 5.0\n"
     ]
    }
   ],
   "source": [
    "#QUESTION 7\n",
    "#BASIC ARITHMETIC OPERATIONS\n",
    "a=int(input(\"Enter first number\"))\n",
    "b=int(input(\"enter second number\"))\n",
    "print(\"sum:\" , a+b)\n",
    "print(\"difference:\" , a-b)\n",
    "print(\"multiplication:\" , a*b)\n",
    "print(\"division:\" , a/b)"
   ]
  },
  {
   "cell_type": "code",
   "execution_count": 46,
   "id": "35c15dca-e8cd-49e9-9b8e-8a63fd328db2",
   "metadata": {},
   "outputs": [
    {
     "name": "stdin",
     "output_type": "stream",
     "text": [
      "Enter age of rahul 21\n",
      "Enter age of sonia 12\n"
     ]
    },
    {
     "name": "stdout",
     "output_type": "stream",
     "text": [
      "sonia is minor and rahul is adult\n"
     ]
    }
   ],
   "source": [
    "#QUESTION 8\n",
    "rahul = int(input(\"Enter age of rahul\"))\n",
    "sonia = int(input(\"Enter age of sonia\"))\n",
    "if rahul >20 and sonia >20 :\n",
    "    print(\"both are adults\")\n",
    "elif rahul>20 and sonia<20:\n",
    "    print(\"sonia is minor and rahul is adult\")\n",
    "elif rahul<20 and sonia >20:\n",
    "    print(\"rahul is minor and sonia is adult\")\n",
    "else:\n",
    "    (\"rahul and sonia both are minor\")"
   ]
  },
  {
   "cell_type": "code",
   "execution_count": 40,
   "id": "40607da0-0a43-4a12-bc11-e8c04eee31bb",
   "metadata": {},
   "outputs": [
    {
     "name": "stdin",
     "output_type": "stream",
     "text": [
      "Enter a number 2\n"
     ]
    },
    {
     "name": "stdout",
     "output_type": "stream",
     "text": [
      "2\n",
      "2.0\n",
      "True\n"
     ]
    }
   ],
   "source": [
    "#QUESTION 9\n",
    "#CONVERT STRING INPUT TO INTEGER, FLOAT,BOOLEAN\n",
    "n=input(\"Enter a number\")\n",
    "print(int(n))\n",
    "print(float(n))\n",
    "print(bool(n))"
   ]
  },
  {
   "cell_type": "code",
   "execution_count": 41,
   "id": "2a2d7017-c0da-40bd-b78e-078efd063ac2",
   "metadata": {},
   "outputs": [
    {
     "name": "stdout",
     "output_type": "stream",
     "text": [
      "[1, 2, 3]\n"
     ]
    }
   ],
   "source": [
    "#QUESTION 10\n",
    "#TYPE CASTING WITH ELEMENTS \n",
    "str_list = [\"1\",\"2\",\"3\"]\n",
    "int_list = [int(i) for i in str_list]\n",
    "print(int_list)"
   ]
  },
  {
   "cell_type": "code",
   "execution_count": 45,
   "id": "427b9df7-1e4a-4791-bb25-072de90cb467",
   "metadata": {},
   "outputs": [
    {
     "name": "stdin",
     "output_type": "stream",
     "text": [
      "Enter a number 1\n"
     ]
    },
    {
     "name": "stdout",
     "output_type": "stream",
     "text": [
      "positive number\n"
     ]
    }
   ],
   "source": [
    "#QUESTION 11\n",
    "#CHECK IF NUMBER IS +VE , -VE OR ZERO\n",
    "num=int(input(\"Enter a number\"))\n",
    "if num > 0:\n",
    "    print(\"positive number\")\n",
    "elif num < 0:\n",
    "    print(\"negative number\")\n",
    "else:\n",
    "    print(\"zero\")"
   ]
  },
  {
   "cell_type": "code",
   "execution_count": 47,
   "id": "271a95f2-ed83-4692-9b02-aa39bf8eb28e",
   "metadata": {},
   "outputs": [
    {
     "name": "stdout",
     "output_type": "stream",
     "text": [
      "1\n",
      "2\n",
      "3\n",
      "4\n",
      "5\n",
      "6\n",
      "7\n",
      "8\n",
      "9\n",
      "10\n"
     ]
    }
   ],
   "source": [
    "#QUESTION 12 \n",
    "#PRINT NUMBERS FROM 1 TO 10 USING FOR LOOP \n",
    "for i in range (1,11):\n",
    "    print (i)"
   ]
  },
  {
   "cell_type": "code",
   "execution_count": 48,
   "id": "24296d96-c494-4539-bf4e-7b6c455e3df4",
   "metadata": {},
   "outputs": [
    {
     "name": "stdout",
     "output_type": "stream",
     "text": [
      "sum: 650\n"
     ]
    }
   ],
   "source": [
    "#QUESTION 13 \n",
    "#SUM OF EVEN NUMBERS FROM 1 TO 50\n",
    "numbers = 0\n",
    "for i in range (2,51,2):\n",
    "    numbers += i\n",
    "print(\"sum:\", numbers)"
   ]
  },
  {
   "cell_type": "code",
   "execution_count": null,
   "id": "ac555018-05fc-43ba-9c40-872804ca909e",
   "metadata": {},
   "outputs": [],
   "source": [
    "#QUESTION 14\n",
    "#REVERSE A STRING USING WHILE LOOP \n"
   ]
  },
  {
   "cell_type": "code",
   "execution_count": 52,
   "id": "289b3961-770d-41d1-80c0-e542d2021e80",
   "metadata": {},
   "outputs": [
    {
     "name": "stdin",
     "output_type": "stream",
     "text": [
      "Enter a number 10\n"
     ]
    },
    {
     "name": "stdout",
     "output_type": "stream",
     "text": [
      "factorial: 1\n",
      "factorial: 2\n",
      "factorial: 6\n",
      "factorial: 24\n",
      "factorial: 120\n",
      "factorial: 720\n",
      "factorial: 5040\n",
      "factorial: 40320\n",
      "factorial: 362880\n",
      "factorial: 3628800\n"
     ]
    }
   ],
   "source": [
    "#QUESTION 15 \n",
    "#FACTORIAL USING WHILE LOOP\n",
    "num=int(input(\"Enter a number\"))\n",
    "factorial = 1\n",
    "i = 1\n",
    "while i <= num :\n",
    "    factorial *= i\n",
    "    i+=1\n",
    "    print(\"factorial:\",factorial)"
   ]
  },
  {
   "cell_type": "code",
   "execution_count": null,
   "id": "655b95ba-b6fb-474d-982b-1f859f006f81",
   "metadata": {},
   "outputs": [],
   "source": []
  }
 ],
 "metadata": {
  "kernelspec": {
   "display_name": "Python 3 (ipykernel)",
   "language": "python",
   "name": "python3"
  },
  "language_info": {
   "codemirror_mode": {
    "name": "ipython",
    "version": 3
   },
   "file_extension": ".py",
   "mimetype": "text/x-python",
   "name": "python",
   "nbconvert_exporter": "python",
   "pygments_lexer": "ipython3",
   "version": "3.13.7"
  }
 },
 "nbformat": 4,
 "nbformat_minor": 5
}
